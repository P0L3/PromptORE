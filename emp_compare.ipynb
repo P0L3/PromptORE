{
 "cells": [
  {
   "cell_type": "code",
   "execution_count": 1,
   "id": "21a2a4ee",
   "metadata": {},
   "outputs": [],
   "source": [
    "import pickle"
   ]
  },
  {
   "cell_type": "code",
   "execution_count": 2,
   "id": "e9c71fe9",
   "metadata": {},
   "outputs": [
    {
     "name": "stderr",
     "output_type": "stream",
     "text": [
      "/home/p0l3/miniconda3/envs/promptore/lib/python3.8/site-packages/tqdm/auto.py:21: TqdmWarning: IProgress not found. Please update jupyter and ipywidgets. See https://ipywidgets.readthedocs.io/en/stable/user_install.html\n",
      "  from .autonotebook import tqdm as notebook_tqdm\n"
     ]
    }
   ],
   "source": [
    "with open(\"embeddings_mask_only.pkl\", \"rb\") as f:\n",
    "    emb_mask = pickle.load(f)\n",
    "\n",
    "with open(\"embeddings_mask_only_m.pkl\", \"rb\") as f:\n",
    "    emb_maskm = pickle.load(f)\n",
    "\n",
    "with open(\"embeddings_mask_only_sms.pkl\", \"rb\") as f:\n",
    "    emb_masksms = pickle.load(f)"
   ]
  },
  {
   "cell_type": "code",
   "execution_count": 3,
   "id": "279b44f7",
   "metadata": {},
   "outputs": [
    {
     "name": "stdout",
     "output_type": "stream",
     "text": [
      "tensor(0.1918)\n",
      "tensor(0.2232)\n",
      "tensor(0.4366)\n"
     ]
    }
   ],
   "source": [
    "print(emb_mask[1][1])\n",
    "print(emb_maskm[1][1])\n",
    "print(emb_masksms[1][1])"
   ]
  }
 ],
 "metadata": {
  "kernelspec": {
   "display_name": "promptore",
   "language": "python",
   "name": "python3"
  },
  "language_info": {
   "codemirror_mode": {
    "name": "ipython",
    "version": 3
   },
   "file_extension": ".py",
   "mimetype": "text/x-python",
   "name": "python",
   "nbconvert_exporter": "python",
   "pygments_lexer": "ipython3",
   "version": "3.8.16"
  }
 },
 "nbformat": 4,
 "nbformat_minor": 5
}
